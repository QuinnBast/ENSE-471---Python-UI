{
 "cells": [
  {
   "cell_type": "markdown",
   "metadata": {},
   "source": [
    "# ENSE 471 - Winter 2018 - Lab 2\n",
    "\n",
    "## FFMPEG Frontend - Phase 1\n",
    "\n",
    "The purpose of this lab is to introduce the students to the concepts required to implement the FFMPEG frontend, including downloading FFMPEG for their target platform, downloading a video, creating and invoking a command line argument, invoking a shell command through python, and constructing a simple interface in Kivy to simplify this process. \n"
   ]
  },
  {
   "cell_type": "markdown",
   "metadata": {},
   "source": [
    "## Part 1: Acquiring FFMPEG\n",
    "\n",
    "FFMPEG is an open source software suite for displaying, streaming, transcoding and recording video and audio content. To begin, we must download and extract (or build) FFMPEG for our target platform. \n",
    "\n",
    "Browse to the FFMPEG website: https://www.ffmpeg.org/\n",
    "\n",
    "Click on download, and select your target operating system. It is recommended that you download a static build - that is, a complete compilation of the software which uses staticly linked libraries in the executable rather than dynamically linked libraries - this will make your life easier, even though the executable will be a little bit bigger.  Because FFMPEG is an open source project, the builds will be hosted on a number of third-party mirror websites. You will typically want to install an x64 / 64 bit variant, unless you are using a legacy or specialized system which does not support 64 bit operations (Pre 2012 machine, certain tablets, etc.) Be sure to install an official build, not one of the lastest development nightlies, as core files may be missing in the nightly builds which are largely incremental in nature.\n",
    "\n",
    "Once you have FFMPEG downloaded, unzip the package and find the FFMPEG executable:\n",
    "\n",
    "Store the path to your FFMPEG as a string `ffmpegPath` in the following block. Exclude the application name in this path:"
   ]
  },
  {
   "cell_type": "code",
   "execution_count": 1,
   "metadata": {
    "collapsed": true
   },
   "outputs": [],
   "source": [
    "ffmpegPath = \"C:\\\\Users\\\\bast200q\\\\Jupyter\\\\ffmpeg-20180126-18e2ac0-win64-static_zip\\\\ffmpeg-20180126-18e2ac0-win64-static\\\\bin\""
   ]
  },
  {
   "cell_type": "markdown",
   "metadata": {},
   "source": [
    "Ensure that the extracted directory includes the following executables:\n",
    "- ffmpeg\n",
    "- ffplay\n",
    "\n",
    "Some builds omit ffplay to reduce the file size. If the build you downloaded does not include it you can manually download it from the following directory:\n",
    "- ffplay (win) <ADAM: find directory>\n",
    "- ffplay (linux) <ADAM: find directory>\n",
    "- ffplay (mac) <ADAM: find directory>"
   ]
  },
  {
   "cell_type": "markdown",
   "metadata": {},
   "source": [
    "## Part 2: Download a test Video\n",
    "\n",
    "For the test video for this course, we will use Big Buck Bunny, an Open-Source 3D CG Animation film made in Blender. You can read more about it here:\n",
    "\n",
    "https://en.wikipedia.org/wiki/Big_Buck_Bunny\n",
    "\n",
    "and download the video here:\n",
    "\n",
    "http://distribution.bbb3d.renderfarming.net/video/mp4/bbb_sunflower_1080p_30fps_normal.mp4\n",
    "\n",
    "This is a 2D, 1080p, 30FPS variant. There are higher resolution, stereoscopic and anaglyph 3D variants available as well, but this variant will be the most useful for our purposes and hardware.\n",
    "\n",
    "Once you have successfully downloaded the video and saved it somewhere, put the complete path to the video as a string named `video` here:"
   ]
  },
  {
   "cell_type": "code",
   "execution_count": 2,
   "metadata": {
    "collapsed": true
   },
   "outputs": [],
   "source": [
    "video = \"C:\\\\Users\\\\bast200q\\\\Jupyter\\\\bbb_sunflower_1080p_30fps_normal.mp4\""
   ]
  },
  {
   "cell_type": "markdown",
   "metadata": {},
   "source": [
    "## Part 3: Understanding Command Line Arguments\n",
    "\n",
    "In this lab we will be invoking command line applications from python. First we must understand how command line applications and arguments work.\n",
    "\n",
    "Command Line applications are typically run from the terminal. If you have ever used a UNIX-like operating system such as linux, you are likely already familiar with command line applications and arguments. Some linux commands you may have seen include:\n",
    "\n",
    "`cd <directory>`\n",
    "\n",
    "`mkdir <directory>`\n",
    "\n",
    "`rm <file>`\n",
    "\n",
    "In a command line application, the first word typed is the command. This is the name of the application which is to be run. After this there is a space and then the command line arguments. While the implementation of these arguments is ultimately at the discretion of the application developer, a typical pattern of named/optional arguments which arises is:\n",
    "\n",
    "`command_name -arg1_name arg1_value -arg2_name arg2_value ... -argN_name argN_value`\n",
    "\n",
    "That is, the name of the optional arguments are preceded by a dash, and the then the value for that argument is given after a space.\n",
    "\n",
    "Some programs also have positional arguments, which are not typically specified by a name, but simply require the value to be passed in to the command in a certain position, eg. in ffmpeg, the output file is a required (positional) argument and is always given as the last command in the command list.\n",
    "\n",
    "Generally speaking the order of the named (optional) arguments do not matter, and in many cases may be omitted. The positional arguments are required and must be always be included. FFMPEG is different, in that optional filter commands should be specified first, and encoding commands should be specified later.\n",
    "\n",
    "We'll explore and run some of these commands in the next portions of this notebook."
   ]
  },
  {
   "cell_type": "markdown",
   "metadata": {},
   "source": [
    "## Part 4: Running a Shell Command from Python\n",
    "\n",
    "In this part of the lab we will check to see if the video and application downloads worked properly by playing the video in `ffplay`, one of the applications included in `ffmpeg` which plays videos using the SDL library.\n",
    "\n",
    "We will use the python `call` command which invokes a subprocess. We can see this process running in the terminal windows which spawned Jupyter Notebook. To use this command, each of the command line arguments, which would regularly be separated by spaces, must be stored as individual elements in a python list of strings.\n",
    "\n",
    "Example: To run \"ls -l\", we would need the following list:\n",
    "\n",
    "`[\"ls\", \"-l\"]`\n",
    "\n",
    "And pass this list as an argument to the call function.\n",
    "\n",
    "One advantage of the call function is that we do not need to worry about manually escaping spaces in the python arguments, should any arise, which is common during paths and directories. \n",
    "\n",
    "First we need to check the command and argument structure of ffplay to play a video. We can find this here:\n",
    "\n",
    "https://ffmpeg.org/ffplay.html\n",
    "\n",
    "We can see that this \n",
    "\n",
    "\"path to ffmpeg/ffplay\" \"path to video\"\n",
    "\n",
    "since we've already stored the path to ffmpeg and the path to the video, we can quickly generate this command using some list and string operations. Do this in the following cell:"
   ]
  },
  {
   "cell_type": "code",
   "execution_count": 3,
   "metadata": {},
   "outputs": [
    {
     "name": "stdout",
     "output_type": "stream",
     "text": [
      "['C:\\\\Users\\\\bast200q\\\\Jupyter\\\\ffmpeg-20180126-18e2ac0-win64-static_zip\\\\ffmpeg-20180126-18e2ac0-win64-static\\\\bin\\\\ffplay', 'C:\\\\Users\\\\bast200q\\\\Jupyter\\\\bbb_sunflower_1080p_30fps_normal.mp4']\n"
     ]
    }
   ],
   "source": [
    "playCommand = [ffmpegPath + \"\\\\ffplay\", video];\n",
    "print(playCommand);"
   ]
  },
  {
   "cell_type": "markdown",
   "metadata": {},
   "source": [
    "Verify that your command looks somewhat similar to the following, although paths may be different:\n",
    "\n",
    "`[\"/home/adam/Downloads/ffmpeg-3.4.1-64bit-static/ffplay\", \"/media/adam/E0E05EBBE05E979C/bbb_sunflower_1080p_60fps_normal.mp4\"]`\n",
    "\n",
    "Now, we need to invoke this command from the python command line. We can use the following command\n"
   ]
  },
  {
   "cell_type": "code",
   "execution_count": 4,
   "metadata": {
    "scrolled": true
   },
   "outputs": [
    {
     "data": {
      "text/plain": [
       "0"
      ]
     },
     "execution_count": 4,
     "metadata": {},
     "output_type": "execute_result"
    }
   ],
   "source": [
    "from subprocess import call\n",
    "call(playCommand)"
   ]
  },
  {
   "cell_type": "markdown",
   "metadata": {},
   "source": [
    "Upon running this command, we should see the video play in FFPLAY. We can now close it. \n",
    "\n",
    "Hopefully, you now understand and can appreciate some of the struggles involved in running command line applications, even when just performing simple tasks like playing videos. We will now start on the process of creating a GUI to play videos using ffplay, as well as encode them (change the video format) using ffmpeg."
   ]
  },
  {
   "attachments": {
    "image.png": {
     "image/png": "[encoded data removed]"
    }
   },
   "cell_type": "markdown",
   "metadata": {},
   "source": [
    "## Part 5: GUI Basics\n",
    "\n",
    "Before designing the GUI, we must first analyze the requirements for this applications. They are: \n",
    "\n",
    "The application will have the following functionality:\n",
    "- the user will enter the file directory\n",
    "- the user will enter the output file directory and name\n",
    "- the user will then select one of three profiles from the settings\n",
    "    - the user may then press \"preview\" which will play the original, unmodified video.\n",
    "    - or the user may press the \"play\" button which will begin the encoding process.\n",
    "\n",
    "Before building our GUI, it's a good idea first to have an idea what we want our interface to look like. To keep all of the submissions on the same page, let's aim to implement the following design:\n",
    "\n",
    "![image.png](attachment:image.png)\n",
    "\n",
    "Before we can begin to implement this functionality, we must first further analyze the design, and select appropriate layouts, widgets and properties. "
   ]
  },
  {
   "attachments": {
    "image.png": {
     "image/png": "[encoded data removed]"
    }
   },
   "cell_type": "markdown",
   "metadata": {},
   "source": [
    "## Choosing a Layout and Objects\n",
    "\n",
    "The first consideration in implementing an interface will be to consider the layout choices. In class we talked about a method for converting an interface mockup to a widget hierarchy tree. The first phase of this analysis involves grouping similar elements and boxing them together with dotted lines. If we follow through the analysis done in class, we can group together the interface elements into similarly sized blocks using the following analysis.\n",
    "\n",
    "![image.png](attachment:image.png)\n",
    "\n",
    "Consider which type of layout would work the best for each of these groups, which layout type should be used to nest all the other layouts, and which types of components to use. Hint: The Spinner type is recommended for one of the components. \n",
    "\n",
    "On a piece of scrap paper, draw the element hierarchy, decide on the types and required properties for the objects in this interface. This will help you generate the code for this interface.\n",
    "\n",
    "Before we can put the interface all together though, let's first create the functionality for the two buttons."
   ]
  },
  {
   "cell_type": "markdown",
   "metadata": {},
   "source": [
    "## Part 6: Impelemnting the preview function:\n",
    "\n",
    "In order to give functionality to our buttons, we must write functions to complete the actions. The purpose of the preview function is to play the input video without encoding it first. We've already seen how we can do this in Part 3 of the notebook. Write a function that can perform this action on an arbitrary file in the following code cell: "
   ]
  },
  {
   "cell_type": "code",
   "execution_count": 5,
   "metadata": {
    "collapsed": true
   },
   "outputs": [],
   "source": [
    "# play function here\n",
    "def play(pathName):\n",
    "    from subprocess import call\n",
    "    preview = [ffmpegPath + \"\\\\ffplay\", pathName]\n",
    "    call(preview)"
   ]
  },
  {
   "cell_type": "markdown",
   "metadata": {},
   "source": [
    "Run the function in the function in the cell below and confirm that it works. You may then call this function from the application, or reuse the code in the event handler in your GUI code."
   ]
  },
  {
   "cell_type": "code",
   "execution_count": 6,
   "metadata": {},
   "outputs": [],
   "source": [
    "#play (video)\n",
    "play(video)"
   ]
  },
  {
   "cell_type": "markdown",
   "metadata": {},
   "source": [
    "## Part 7: Implementing the encode function:\n",
    "\n",
    "Implementing the encode function is a bit more complicated, because ffmpeg has a number of different options which we will have to select from depending on the settings the user has selected. First, let us select 3 profiles which the user may select from in our interface:\n",
    "\n",
    "Profile 1: HD\n",
    "- 720p video resolution. (1280 x 720)\n",
    "- Framerate: 30 fps\n",
    "- x264 video - CRF = 20\n",
    "- MP3 audio - Q = 2\n",
    "\n",
    "\n",
    "Profile 2: SD\n",
    "- 480p video. (852 x 480)\n",
    "- Framerate: 24 fps\n",
    "- x264 video - CRF = 24\n",
    "- MP3 audio - Q = 5\n",
    "\n",
    "\n",
    "Profile 3: 360p\n",
    "- 360p video. (640 x 360)\n",
    "- Framerate: 24 fps \n",
    "- x264 video - CRF = 30\n",
    "- MP3 audio - Q = 5\n",
    "\n",
    "We will need to create each of these using a command line expression in ffmpeg.\n",
    "A brief overview of some of the arguments needed in ffmpeg are provided below\n",
    "\n",
    "|argument | arg type | name | value type | value example |\n",
    "|--|--|--|--|--|\n",
    "| -i | optional | input file | string | input.mp4 |\n",
    "| -r | optional | framerate | number | 60 |\n",
    "| -s | optional | video scale | number x number | 1920x1080 |\n",
    "| -c:v | optional | video codec | string | libx265 |\n",
    "| -crf | optional | video constant rate factor | number | 20 |\n",
    "| -c:a | optional | audio codec | string | libfdk_aac |\n",
    "| -q:a | optional | audio quality | number | 5 |\n",
    "| LAST | positional | output file | string | output.mp4 | \n"
   ]
  },
  {
   "cell_type": "markdown",
   "metadata": {},
   "source": [
    "In the cell below, come up with a sample call for each of three profiles which was specified above as a single string. For now use the following placeholder values:\n",
    "\n",
    "ffmpeg: `\"ffmpeg\"`\n",
    "\n",
    "input: `\"input.mp4\"`\n",
    "\n",
    "output: `\"output.mp4\"` \n",
    "\n",
    "An example ffmpeg call for 1080p resolution, 60 fps, x265 Video @ crf = 20 and AAC audio is given below:\n",
    "\n",
    "`ffmpeg -i input.mp4 -r 60 -s 1920x1080 -c:v libx265 -crf 20 -c:a libfdk_aac -q:a 5 output.mp4`\n",
    "\n",
    "You may need to browse the ffmpeg documentation to see an explanation of the different encoder names and  values and explanations of different options such as video quality, audio quality, differenct encoder/decoders (codecs), etc."
   ]
  },
  {
   "cell_type": "code",
   "execution_count": 7,
   "metadata": {
    "collapsed": true
   },
   "outputs": [],
   "source": [
    "highProfile = \"-i input.mp4 -r 30 -s 1280x720 -c:v libx264 -crf 20 -c:a libmp3lame -q:a 2 output.mp4\"\n",
    "medProfile = \"-i input.mp4 -r 24 -s 852x480 -c:v libx264 -crf 24 -c:a libmp3lame -q:a 5 output.mp4\"\n",
    "lowProfile = \"-i input.mp4 -r 24 -s 640x360 -c:v libx264 -crf 30 -c:a libmp3lame -q:a 5 output.mp4\""
   ]
  },
  {
   "cell_type": "markdown",
   "metadata": {},
   "source": [
    "Recall that when we are using the \"call\" subprocess function, we must split each word into a string in a list. This can be accomplished using the \"split\" command. Split these in the following block:"
   ]
  },
  {
   "cell_type": "code",
   "execution_count": 8,
   "metadata": {
    "collapsed": true
   },
   "outputs": [],
   "source": [
    "highProfileParamList = highProfile.split(\" \")\n",
    "medProfileParamList = medProfile.split(\" \")\n",
    "lowProfileParamList = lowProfile.split(\" \")"
   ]
  },
  {
   "cell_type": "markdown",
   "metadata": {},
   "source": [
    "Note that in the final implementation, we will need to replace the 3 placeholder entries into the list (ffmpeg, input_file, output_file) with the correct data from the textbox. This can be done by setting the appropriate elements in the list by index. Make note of the indeces of each of these variables. \n",
    "\n",
    "If is finally time to write a function to perform encoding. Write a function which takes the following arguments: \n",
    "a profile name (string),\n",
    "the input file (string),\n",
    "the output file (string). \n",
    "\n",
    "Inside the function, use a branching selection to choose which profile to use based on the profile name, and replace the appropriate placeholder varaibles with the different arguments and stored values (rembember to include the full path to FFMPEG), and finally call the function. You can use the global keyword to access the previously created profile parameter lists."
   ]
  },
  {
   "cell_type": "code",
   "execution_count": 9,
   "metadata": {
    "collapsed": true
   },
   "outputs": [],
   "source": [
    "# write your encode function definition here\n",
    "def encode(profileName, inputFile, outputFile):\n",
    "    #Get the appropriate command based on the selected encoding\n",
    "    parameters = [ffmpegPath + \"\\\\ffmpeg\"]\n",
    "    profileLookup = {\"HD\": highProfileParamList, \"SD\": medProfileParamList, \"360p\": lowProfileParamList}\n",
    "    parameters += profileLookup[profileName]\n",
    "\n",
    "    #Set the input and output files\n",
    "    parameters[2] = inputFile\n",
    "    parameters[15] = outputFile\n",
    "    print(parameters)\n",
    "    \n",
    "    from subprocess import call\n",
    "    #Call the video encoder\n",
    "    call(parameters)\n",
    "    \n",
    "    #Play the newly encoded video\n",
    "    play(outputFile)"
   ]
  },
  {
   "cell_type": "markdown",
   "metadata": {},
   "source": [
    "**Save your notebook now**, then run the function in the cell below:"
   ]
  },
  {
   "cell_type": "code",
   "execution_count": 10,
   "metadata": {},
   "outputs": [
    {
     "name": "stdout",
     "output_type": "stream",
     "text": [
      "['C:\\\\Users\\\\bast200q\\\\Jupyter\\\\ffmpeg-20180126-18e2ac0-win64-static_zip\\\\ffmpeg-20180126-18e2ac0-win64-static\\\\bin\\\\ffmpeg', '-i', 'C:\\\\Users\\\\bast200q\\\\Jupyter\\\\bbb_sunflower_1080p_30fps_normal.mp4', '-r', '30', '-s', '1280x720', '-c:v', 'libx264', '-crf', '20', '-c:a', 'libmp3lame', '-q:a', '2', 'C:\\\\Users\\\\bast200q\\\\Jupyter\\\\HDOutput.mp4']\n"
     ]
    }
   ],
   "source": [
    "# write your encode function call here\n",
    "test = \"C:\\\\Users\\\\bast200q\\\\Jupyter\\\\HDOutput.mp4\"\n",
    "encode(\"HD\", video, test)"
   ]
  },
  {
   "cell_type": "markdown",
   "metadata": {},
   "source": [
    "If the function worked correctly, you will see the FFMPEG program running in the terminal instance which launched Jupyter Notebook. Depending on the settings you have selected, this process may take a while. You can cancel this process by interrupting the kernel from within Jupyter Notebook. You will need to restart the kernel and run it to this portion of the notebook so that temporary variables you have set are restored. "
   ]
  },
  {
   "cell_type": "markdown",
   "metadata": {},
   "source": [
    "## Part 8: Implementing the GUI\n",
    "\n",
    "It is now time to implement the GUI. There are two portions of Kivy applications, a python portion in which we invoke commands, and a \".kv\" (kivy) file which specifies layout. The kv file is a plain text file which specifies the layout of the page in a manner similar to XML or HTML, but has a syntax more similar to Python, and can actually run snippets of python code.\n",
    "\n",
    "Since we have already created a widget tree, we can begin implementing this in the Kivy language. You can get a good overview of the Kivy language here:\n",
    "\n",
    "https://kivy.org/docs/api-kivy.lang.html\n",
    "\n",
    "Some steps you might want to follow:\n",
    "- Identify which layouts you will need\n",
    "    - add the layouts to the KV file with the proper nesting\n",
    "        - set any properties of the layouts as needed\n",
    "- Identify which widgets you will need\n",
    "    - add the widgets to the KV file with the proper netsting\n",
    "        - set any properties of the layouts as needed\n",
    "- Identify which elements require events\n",
    "    - in the python file, write code for these events\n",
    "        - in the Kivy file, ensure that functions are called from the right side of the \"on\" events. \n",
    "\n",
    "It may also be useful to reference the Kivy example done in class on Thursday, Jan 18.\n",
    "\n",
    "In the cell below we will implement the KV file. We will do this in a string instead of in a separate file so that we can keep all of the code in the workbook."
   ]
  },
  {
   "cell_type": "code",
   "execution_count": 11,
   "metadata": {
    "collapsed": true
   },
   "outputs": [],
   "source": [
    "dotKV = '''\\\n",
    "\n",
    "# Write your dotKV file in here. Be sure to use proper formatting.\n",
    "<FfmpegFrontendWidget>:\n",
    "    orientation: \"vertical\"\n",
    "    padding: \"20px\"\n",
    "    BoxLayout:\n",
    "        orientation: \"vertical\"\n",
    "        Label:\n",
    "            text: \"Input File\"\n",
    "            halign: 'left'\n",
    "            text_size: self.size\n",
    "        TextInput:\n",
    "            id: txtInputFile\n",
    "            text: \"Input File Name\"\n",
    "    BoxLayout:\n",
    "        orientation: \"vertical\"\n",
    "        Label:\n",
    "            text: \"Output File\"\n",
    "            halign: 'left'\n",
    "            text_size: self.size\n",
    "        TextInput:\n",
    "            id: txtOutputFile\n",
    "            text: \"Output File Name\"\n",
    "    BoxLayout:\n",
    "        orientation: \"vertical\"\n",
    "        Label:\n",
    "            text: \"Settings\"\n",
    "            halign: 'left'\n",
    "            text_size: self.size\n",
    "        Spinner:\n",
    "            values: ('HD', 'SD', '360p')\n",
    "            text: 'HD'\n",
    "            id: settings\n",
    "    BoxLayout:\n",
    "        padding: \"20px\"\n",
    "        orientation: \"horizontal\"\n",
    "        Button:\n",
    "            text: 'Preview'\n",
    "            on_press: root.preview(txtOutputFile.text)\n",
    "        Button:\n",
    "            text: 'Encode'\n",
    "            on_press: root.encode(settings.text, txtInputFile.text, txtOutputFile.text)\n",
    "\n",
    "\\\n",
    "'''"
   ]
  },
  {
   "cell_type": "markdown",
   "metadata": {},
   "source": [
    "Finally, write your python file portion in the following box. The first two lines will automatically build the kv file and include it.\n",
    "\n",
    "You may either call the encode and play functions which you created earlier, or rewrite them to be a part of the correct class.\n",
    "\n",
    "You may need to go back to the .kv file to ensure that the proper function names are being called and the correct properties are being passed to the functions.\n",
    "\n",
    "Finally, when you run a Kivy GUI in Jupyter, the Kernel sometiems becomes unresponsive, and never relaunches the GUI when you run the cell a second time. To fix this, go to Kernel -> Restart (or Restart and Run All so that all of your code is executed once again.)"
   ]
  },
  {
   "cell_type": "code",
   "execution_count": 12,
   "metadata": {
    "scrolled": true
   },
   "outputs": [
    {
     "name": "stderr",
     "output_type": "stream",
     "text": [
      "[INFO   ] [Logger      ] Record log in C:\\Users\\bast200q\\.kivy\\logs\\kivy_18-01-26_34.txt\n",
      "[INFO   ] [Kivy        ] v1.10.0\n",
      "[INFO   ] [Python      ] v3.6.3 |Anaconda, Inc.| (default, Oct 15 2017, 03:27:45) [MSC v.1900 64 bit (AMD64)]\n",
      "[INFO   ] [Factory     ] 194 symbols loaded\n",
      "[INFO   ] [Image       ] Providers: img_tex, img_dds, img_sdl2, img_pil, img_gif (img_ffpyplayer ignored)\n",
      "[INFO   ] [Text        ] Provider: sdl2\n",
      "[INFO   ] [OSC         ] using <thread> for socket\n",
      "[INFO   ] [Window      ] Provider: sdl2\n",
      "[INFO   ] [GL          ] Using the \"OpenGL\" graphics system\n",
      "[INFO   ] [GL          ] GLEW initialization succeeded\n",
      "[INFO   ] [GL          ] Backend used <glew>\n",
      "[INFO   ] [GL          ] OpenGL version <b'4.5.0 NVIDIA 385.08'>\n",
      "[INFO   ] [GL          ] OpenGL vendor <b'NVIDIA Corporation'>\n",
      "[INFO   ] [GL          ] OpenGL renderer <b'Quadro K620/PCIe/SSE2'>\n",
      "[INFO   ] [GL          ] OpenGL parsed version: 4, 5\n",
      "[INFO   ] [GL          ] Shading version <b'4.50 NVIDIA'>\n",
      "[INFO   ] [GL          ] Texture max size <16384>\n",
      "[INFO   ] [GL          ] Texture max units <32>\n",
      "[INFO   ] [Window      ] auto add sdl2 input provider\n",
      "[INFO   ] [Window      ] virtual keyboard not allowed, single mode, not docked\n",
      "[INFO   ] [GL          ] NPOT texture support is available\n",
      "[INFO   ] [Base        ] Start application main loop\n",
      "[INFO   ] [Base        ] Leaving application in progress...\n"
     ]
    }
   ],
   "source": [
    "# build the .kv file from the string\n",
    "from kivy.lang import Builder\n",
    "Builder.load_string(dotKV)\n",
    "\n",
    "# keep the application from going fullscreen\n",
    "from kivy.config import Config\n",
    "Config.set('graphics', 'fullscreen', '0')\n",
    "\n",
    "# the kivy base class import\n",
    "from kivy.app import App\n",
    "from kivy.uix.boxlayout import BoxLayout\n",
    "from kivy.uix.label import Label\n",
    "from kivy.uix.button import Button\n",
    "from kivy.uix.textinput import TextInput\n",
    "\n",
    "class FfmpegFrontendWidget(BoxLayout):\n",
    "    # call your ffmpeg functions here. Remember the first argument to all python classes.\n",
    "    def preview (self, fileName):\n",
    "        play(fileName)\n",
    "        \n",
    "    def encode (self, setting, inputFile, outputFile):\n",
    "        encode(setting, inputFile, outputFile)\n",
    "        \n",
    "# this code will build and run your kivy app        \n",
    "class FFmpegFrontendApp(App):\n",
    "    def build(self):\n",
    "        return FfmpegFrontendWidget()\n",
    "\n",
    "if __name__ == \"__main__\":\n",
    "    FFmpegFrontendApp().run()"
   ]
  },
  {
   "cell_type": "code",
   "execution_count": null,
   "metadata": {
    "collapsed": true
   },
   "outputs": [],
   "source": []
  }
 ],
 "metadata": {
  "kernelspec": {
   "display_name": "Python 3",
   "language": "python",
   "name": "python3"
  },
  "language_info": {
   "codemirror_mode": {
    "name": "ipython",
    "version": 3
   },
   "file_extension": ".py",
   "mimetype": "text/x-python",
   "name": "python",
   "nbconvert_exporter": "python",
   "pygments_lexer": "ipython3",
   "version": "3.6.3"
  }
 },
 "nbformat": 4,
 "nbformat_minor": 2
}
