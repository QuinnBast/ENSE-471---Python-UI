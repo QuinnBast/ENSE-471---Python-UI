{
 "cells": [
  {
   "cell_type": "markdown",
   "metadata": {},
   "source": [
    "# Lab 1\n",
    "\n",
    "## Part 1: Introduction\n",
    "\n",
    "This notebook will introduce you to the basics of using the Jupyter Notebook and the Python 3 programming language. These notebooks will be used to bundle your code and documentation and to submit assignments, labs and projects for this course.\n",
    "\n",
    "To complete this exercise, work through the notebook, filling in the cells. You may need to read the information at the provided links to answer the questions. Your work will be marked by an automated script, so be sure that your code matches the specified variable names, function interfaces, and class specifications.\n",
    "\n",
    "There are two types of cells in the Jupyter Notebook, code cells and markdown cells. This is a markdown cell. It is used to document your code. When this cell is run using shift+enter the markdown language will be rendered in a human-readable fashion.  For markdown specifications, see the following link:\n",
    "http://jupyter-notebook.readthedocs.io/en/stable/examples/Notebook/Working%20With%20Markdown%20Cells.html\n",
    "\n",
    "Code cells can run code from a python kernel live in the notebook. The following cell is a code cell. Run it by pressing shift+enter in the cell."
   ]
  },
  {
   "cell_type": "code",
   "execution_count": 1,
   "metadata": {},
   "outputs": [
    {
     "name": "stdout",
     "output_type": "stream",
     "text": [
      "hello world\n"
     ]
    }
   ],
   "source": [
    "# python code to print hello world\n",
    "print (\"hello world\")"
   ]
  },
  {
   "cell_type": "markdown",
   "metadata": {},
   "source": [
    "You should see the output of the python code below the cell. "
   ]
  },
  {
   "cell_type": "markdown",
   "metadata": {},
   "source": [
    "## Exercise 1: Markdown cell\n",
    "\n",
    "Practice using the markdown language in the following cell. Convert the follwing cell from python code to markdown language (Cell -> Cell Type -> Markdown), and using the documentation included in the previous link, provide example code for each of the following:\n",
    "\n",
    "- Heading\n",
    "- Subheading\n",
    "- List with a sublist\n",
    "- a block quote,\n",
    "- table\n",
    "- centered LaTeX equation"
   ]
  },
  {
   "cell_type": "markdown",
   "metadata": {
    "collapsed": true
   },
   "source": [
    "# Heading\n",
    "## Subheading\n",
    "- List with a sublist\n",
    "  - sublist\n",
    "\n",
    "> a block quote,\n",
    "> Amazing!\n",
    "\n",
    "| Header 1 | Header 2|\n",
    "|---------|----------|\n",
    "| Value 1 | Value 2 |\n",
    "| Value 3 | Value 4 |\n",
    "| Value 5 | Value 6 |\n",
    "\n",
    "\n",
    "$$e^x=\\sum_{i=0}^\\infty \\frac{1}{i!}x^i$$"
   ]
  },
  {
   "cell_type": "markdown",
   "metadata": {},
   "source": [
    "## Part 2: Basic Data Types in Python\n",
    "\n",
    "This section teaches the basics of data types in python 3. In python 3 the primitive data types are:\n",
    "\n",
    "- numbers: can represent integer, floating point and complex types\n",
    "- strings: represents an ordered set of characters\n",
    "- list: represents a list of values, typically of the same type. Similar to arrays. \n",
    "- tuple: represents an ordered pair of values, not necessary of the same type. Similar to a struct.\n",
    "- dictionary: represents a set of key-value pairs, similar to an associative array. \n",
    "   \n",
    "Variables are not type-declared, the type is determined during the assignment statement.\n",
    "\n",
    "A good overview of the types in Python 3 can be found at the following tutorial: https://www.tutorialspoint.com/python3/python_variable_types.htm"
   ]
  },
  {
   "cell_type": "markdown",
   "metadata": {},
   "source": [
    "### Number\n",
    "\n",
    "The number type can represent integer, float and complex types. Try to declare some of these in the following cells:"
   ]
  },
  {
   "cell_type": "code",
   "execution_count": 3,
   "metadata": {},
   "outputs": [
    {
     "name": "stdout",
     "output_type": "stream",
     "text": [
      "0.3333333333333333\n"
     ]
    }
   ],
   "source": [
    "# GRADED VARIABLE - be sure names and values are precise!\n",
    "# Set the variable float_a to one third\n",
    "\n",
    "float_a = 1/3\n",
    "print (float_a)"
   ]
  },
  {
   "cell_type": "code",
   "execution_count": 4,
   "metadata": {},
   "outputs": [
    {
     "name": "stdout",
     "output_type": "stream",
     "text": [
      "100\n"
     ]
    }
   ],
   "source": [
    "# GRADED VARIABLE - be sure names and values are precise!\n",
    "# Set the variable integer_b to one hundred\n",
    "\n",
    "integer_b = 100\n",
    "print (integer_b)"
   ]
  },
  {
   "cell_type": "markdown",
   "metadata": {},
   "source": [
    "### String\n",
    "\n",
    "The string type contains an ordered list of characters. Three useful string operators are concatenation (+), repition (\\*) and slice ( [] or [ : ]). Using these functions try to solve the following problems:"
   ]
  },
  {
   "cell_type": "code",
   "execution_count": 5,
   "metadata": {
    "scrolled": true
   },
   "outputs": [
    {
     "name": "stdout",
     "output_type": "stream",
     "text": [
      "hello world\n"
     ]
    }
   ],
   "source": [
    "# GRADED VARIABLE - be sure names and values are precise!\n",
    "# Set the variable string_hp to say \"hello world\"\n",
    "\n",
    "string_hp = \"hello world\"\n",
    "print (string_hp)"
   ]
  },
  {
   "cell_type": "code",
   "execution_count": 7,
   "metadata": {},
   "outputs": [
    {
     "name": "stdout",
     "output_type": "stream",
     "text": [
      "hellohellohellohellohello\n"
     ]
    }
   ],
   "source": [
    "# GRADED VARIABLE - be sure names and values are precise!\n",
    "# Set the variable string_hp_5 to say \"hello\" repeated five times without spaces.\n",
    "\n",
    "string_hp_5 = 5*(\"hello\")\n",
    "print (string_hp_5)"
   ]
  },
  {
   "cell_type": "code",
   "execution_count": 10,
   "metadata": {},
   "outputs": [
    {
     "name": "stdout",
     "output_type": "stream",
     "text": [
      "lo wo\n"
     ]
    }
   ],
   "source": [
    "# GRADED VARIABLE - be sure names and values are precise!\n",
    "# Set string_hp_slice to say \"lo wo\" by using a slice operation on string_hp\n",
    "\n",
    "string_hp_slice = string_hp[3:8]\n",
    "print (string_hp_slice)"
   ]
  },
  {
   "cell_type": "markdown",
   "metadata": {},
   "source": [
    "### Lists\n",
    "\n",
    "Lists are the data structure in python that corresponds with arrays in c-like languages. \n",
    "\n",
    "   - contain a number of indexable members\n",
    "   - typically used for homogenous data types\n",
    "   - declared using the [] symbol\n",
    "   - have operators to be used as stacks, queues\n",
    "   \n",
    "More information on lists can be found at: https://www.tutorialspoint.com/python3/python_lists.htm\n",
    "   \n",
    "Try to initialize the following lists:"
   ]
  },
  {
   "cell_type": "code",
   "execution_count": 11,
   "metadata": {},
   "outputs": [
    {
     "name": "stdout",
     "output_type": "stream",
     "text": [
      "[1, 2, 3, 4, 5, 6, 7, 8, 9, 10]\n"
     ]
    }
   ],
   "source": [
    "# GRADED VARIABLE - be sure names and values are precise!\n",
    "# Set list_n to be the numbers 1 to 10 inclusive, incrementing by one.\n",
    "\n",
    "list_n = [1, 2, 3, 4, 5, 6, 7, 8, 9, 10]\n",
    "print (list_n)"
   ]
  },
  {
   "cell_type": "markdown",
   "metadata": {},
   "source": [
    "### Tuples\n",
    "\n",
    "Tuples are a data type corresponding to an ordered pair (or more) of variable values. Some properties of this data type: \n",
    "   \n",
    "   - The tuple  can be of any length. \n",
    "   - The values in tuples may be of any type. (similar to c structs)\n",
    "   - Tuples can be used to return multiple values from a function\n",
    "   \n",
    "More information on tuples can be found at: https://www.tutorialspoint.com/python3/python_tuples.htm\n",
    "\n",
    "Try to initialize the following tuples:"
   ]
  },
  {
   "cell_type": "code",
   "execution_count": 13,
   "metadata": {
    "scrolled": true
   },
   "outputs": [
    {
     "name": "stdout",
     "output_type": "stream",
     "text": [
      "(1, 'hi', [1, 2, 3])\n"
     ]
    }
   ],
   "source": [
    "# GRADED VARIABLE - be sure names and values are precise!\n",
    "# Set tuple_t to be the numbers 1, the string \"hi\" and a list with values 1, 2, 3.\n",
    "\n",
    "tuple_t = (1, \"hi\", [1, 2, 3])\n",
    "print (tuple_t)"
   ]
  },
  {
   "cell_type": "markdown",
   "metadata": {},
   "source": [
    "### Dictionary\n",
    "\n",
    "Dictionaries are a data type which maps a key to a value. \n",
    "\n",
    "More information on the Dictionary type can be found at: https://www.tutorialspoint.com/python3/python_dictionary.htm\n",
    "\n",
    "Try to intialize the following dictionary:"
   ]
  },
  {
   "cell_type": "code",
   "execution_count": 14,
   "metadata": {},
   "outputs": [
    {
     "name": "stdout",
     "output_type": "stream",
     "text": [
      "{'a': 'apple', 'b': 'blueberry', 'c': 'chair', 'd': 'dog', 'e': 'exit', 'f': 'far', 'g': 'go'}\n",
      "chair\n"
     ]
    }
   ],
   "source": [
    "# GRADED VARIABLE - be sure names and values are precise!\n",
    "# Set dict_d to contain the keys \"a\",\"b\",\"c\",\"d\",\"e\",\"f\",\"g\" to contain the \n",
    "#     values \"apple\", \"blueberry\", \"chair\", \"dog\", \"exit\", \"far\", \"go\"\n",
    "\n",
    "dict_d = {\"a\":\"apple\", \"b\":\"blueberry\", \"c\":\"chair\", \"d\":\"dog\", \"e\":\"exit\", \"f\":\"far\", \"g\":\"go\"}\n",
    "\n",
    "print (dict_d)\n",
    "print (dict_d[\"c\"])"
   ]
  },
  {
   "cell_type": "markdown",
   "metadata": {},
   "source": [
    "## Part 3: Branching and Looping in Python\n",
    "\n",
    "This section teaches the basics of branching and looping in python. In particular, in this section, you will:\n",
    "   \n",
    "   - create a multi-way branch\n",
    "   - loop in a for-loop fashion \n",
    "   - loop in a for-each loop fashion\n",
    "\n",
    "You can review the syntax of these functions at:\n",
    "\n",
    "https://www.tutorialspoint.com/python3/python_if_else.htm\n",
    "\n",
    "https://www.tutorialspoint.com/python3/python_loops.htm\n",
    "\n",
    "\n",
    "### Branching\n",
    "\n",
    "An example of a branching decision in python is:\n",
    "\n",
    "    if x == 3:\n",
    "        print (\"x is 3\")\n",
    "    elif x == 4:\n",
    "        print (\"x is 4\")\n",
    "    else:\n",
    "        print (\"x is not 3 or 4\")\n",
    "        \n",
    "Key syntax differences from c-like languages are:\n",
    "   \n",
    "   - conditions may optionally be encapsulated in parenthesis\n",
    "   - colons (:) appear at the end of conditions\n",
    "   - the keyword \"elif\" is used in place of \"else if\"\n",
    "   - indentation is required"
   ]
  },
  {
   "cell_type": "code",
   "execution_count": 37,
   "metadata": {},
   "outputs": [
    {
     "name": "stdout",
     "output_type": "stream",
     "text": [
      "9 is a square of 3\n",
      "3 is not a square between 1-9\n",
      "12 is not a square between 1-9\n",
      "16 is a square of 4\n",
      "36 is a square of 6\n",
      "1 is a square of 1\n",
      "81 is a square of 9\n",
      "82 is not a square between 1-9\n"
     ]
    }
   ],
   "source": [
    "# Exercise:\n",
    "# Write a block of code which checks if variable x is the square of any of the numbers 1...9. \n",
    "# If so, print out which number it is a square of.\n",
    "# If not, print \"the number is not a square of 1...9\"\n",
    "# Try to think of a pythonic way of writing this code, eg. using some of the data structures described\n",
    "\n",
    "def checkSquare(val):\n",
    "    temp = 0\n",
    "    squares = []\n",
    "    while(temp < 10):\n",
    "        squares.append(temp*temp)\n",
    "        temp = temp+1\n",
    "    \n",
    "    if(val in squares):\n",
    "        print(str(val) + \" is a square of \" + str(squares.index(val)))\n",
    "    else:\n",
    "        print(str(val) + \" is not a square between 1-9\")\n",
    "\n",
    "checkSquare(9)\n",
    "checkSquare(3)\n",
    "checkSquare(12)\n",
    "checkSquare(16)\n",
    "checkSquare(36)\n",
    "checkSquare(1)\n",
    "checkSquare(81)\n",
    "checkSquare(82)\n"
   ]
  },
  {
   "cell_type": "markdown",
   "metadata": {},
   "source": [
    "### Looping\n",
    "\n",
    "There are two type of looping mechanisms in python, while loops and for loops.\n",
    "\n",
    "   - while loops act as they do in c\n",
    "   - for loops are based on for-each loops\n",
    "       - if you wish to do a do an iterative for loop, you must loop over a range"
   ]
  },
  {
   "cell_type": "code",
   "execution_count": 45,
   "metadata": {},
   "outputs": [
    {
     "name": "stdout",
     "output_type": "stream",
     "text": [
      "***\n",
      " ***\n",
      "  ***\n",
      "   ***\n",
      "    ***\n",
      "     ***\n"
     ]
    }
   ],
   "source": [
    "# Exercise\n",
    "# Using the while loop structure, write a loop structure to print out the following figure:\n",
    "# ***\n",
    "#  ***\n",
    "#   ***\n",
    "#    ***\n",
    "#     ***\n",
    "#      ***\n",
    "def makeStarsWhile():\n",
    "    temp = 0\n",
    "    str = \"***\"\n",
    "    while(temp < 6):\n",
    "        print(str)\n",
    "        str = \" \" + str\n",
    "        temp = temp+1\n",
    "        \n",
    "makeStarsWhile()"
   ]
  },
  {
   "cell_type": "code",
   "execution_count": 54,
   "metadata": {},
   "outputs": [
    {
     "name": "stdout",
     "output_type": "stream",
     "text": [
      "***\n",
      " ***\n",
      "  ***\n",
      "   ***\n",
      "    ***\n",
      "     ***\n"
     ]
    }
   ],
   "source": [
    "# Exercise\n",
    "# Perform the same exercise using the for loop structure:\n",
    "def makeStarsFor():\n",
    "    str = \"***\"\n",
    "    for temp in range(6):\n",
    "        print(str)\n",
    "        str = \" \" + str\n",
    "        temp = temp+1\n",
    "        \n",
    "makeStarsFor()\n",
    "\n"
   ]
  },
  {
   "cell_type": "markdown",
   "metadata": {},
   "source": [
    "## Part 4: Functions\n",
    "\n",
    "As with most programming languages, python gives the ability to create functions which can then be reused. Functions may optionally:\n",
    "\n",
    "   - take one or more arguments of any type\n",
    "   - return one or more values of any type\n",
    "\n",
    "In python all variables are passed by reference. \n",
    "\n",
    "The basic syntax is as follows:\n",
    "\n",
    "        def <function_name> ( <parameters> ):\n",
    "           <function_operations>\n",
    "           return <value(s)>\n",
    "\n",
    "Because python does not check for the types of the variables going in or out of the function, more care must be taken by the developer to ensure proper usage. A tradeoff to this is that all functions can be considered template functions which work on many types as long as the operations performed are properly defined.\n",
    "\n",
    "A good overview of functions can be found here: https://www.tutorialspoint.com/python3/python_functions.htm"
   ]
  },
  {
   "cell_type": "code",
   "execution_count": 56,
   "metadata": {},
   "outputs": [
    {
     "name": "stdout",
     "output_type": "stream",
     "text": [
      "10\n",
      "catdog\n",
      "[1, 2, 3, 4, 5, 6]\n"
     ]
    },
    {
     "data": {
      "text/plain": [
       "[1, 2, 3, 4, 5, 6]"
      ]
     },
     "execution_count": 56,
     "metadata": {},
     "output_type": "execute_result"
    }
   ],
   "source": [
    "# GRADED FUNCTION - be sure the function name is precise!\n",
    "# Write a function called sum_of_two_values which adds them together and returns the output.\n",
    "# Try running this function on two numbers, two strings and two equal length lists. Is the output as expected? \n",
    "\n",
    "#Solution\n",
    "def sum_of_two_values(val1, val2):\n",
    "    print(val1 + val2)\n",
    "    return val1 + val2\n",
    "\n",
    "sum_of_two_values(3, 7)\n",
    "sum_of_two_values(\"cat\", \"dog\")\n",
    "sum_of_two_values([1,2,3],[4,5,6])"
   ]
  },
  {
   "cell_type": "code",
   "execution_count": 67,
   "metadata": {},
   "outputs": [
    {
     "name": "stdout",
     "output_type": "stream",
     "text": [
      "Cannot take the factorial of a negative number.\n",
      "1\n",
      "1\n",
      "2\n",
      "6\n",
      "24\n",
      "120\n",
      "720\n"
     ]
    }
   ],
   "source": [
    "# GRADED FUNCTION - be sure the function name is precise!\n",
    "# Write a function called factorial which takes a single integer and computes the factorial of that number recursively\n",
    "\n",
    "def factorial(number):\n",
    "    if(number < 0):\n",
    "        return \"Cannot take the factorial of a negative number.\"\n",
    "    elif(number == 0):\n",
    "        return 1\n",
    "    else:\n",
    "        return factorial(number-1) * number\n",
    "\n",
    "print(factorial(-1))\n",
    "print(factorial(0))\n",
    "print(factorial(1))\n",
    "print(factorial(2))\n",
    "print(factorial(3))\n",
    "print(factorial(4))\n",
    "print(factorial(5))\n",
    "print(factorial(6))"
   ]
  },
  {
   "cell_type": "markdown",
   "metadata": {},
   "source": [
    "## Part 5: Classes\n",
    "\n",
    "This sections outlines some of the basics of Object Oriented Programming in Python.\n",
    "\n",
    "A good overview of OOP in Python 3 is provided at: https://www.tutorialspoint.com/python3/python_classes_objects.htm\n",
    "\n",
    "Some important notes:\n",
    "- Python classes have members that are common to all instances of that class, and members that only belong to the specific instance\n",
    "- all members and functions are public\n",
    "- The keyword \"self\" acts similar to java \"this\" to specify a particular instance\n",
    "- \"self\" must be declared as the first parameter to all class functions, but when the function is called this argument is passed automatically.\n",
    "- the constructor always has the signature: \n",
    "         def __init__(self, <optional args>):"
   ]
  },
  {
   "cell_type": "code",
   "execution_count": 101,
   "metadata": {},
   "outputs": [
    {
     "name": "stdout",
     "output_type": "stream",
     "text": [
      "3\n"
     ]
    }
   ],
   "source": [
    "# GRADED EXERCISE - Be sure names and signatures are matched.\n",
    "\n",
    "# Create a class called Animal. This class should have:\n",
    "    # A common variable which includes the count of all Animals which have been created\n",
    "    # An instance specific variable \"commonName\"\n",
    "    # An instance specific variable \"family\"\n",
    "    # An instance specific variable \"species\"\n",
    "    # An argumented constructor which takes \"Common_Name\", \"Family\", and \"Species\" \n",
    "    #    in that order and sets them appropriately\n",
    "    # A function GetAnimalCount which returns the numbers of animasl created\n",
    "    \n",
    "class Animal():\n",
    "    animalCount = 0\n",
    "    def __init__(self, commonName, familyName, speciesName):\n",
    "        self.commonName = commonName\n",
    "        self.familyName = familyName\n",
    "        self.speciesName = speciesName\n",
    "        Animal.animalCount += 1\n",
    "        \n",
    "    def GetAnimalCount(self):\n",
    "        return Animal.animalCount\n",
    "    \n",
    "bear = Animal(\"bear\", \"Idk\", \"someSpecies\")\n",
    "bear2 = Animal(\"bear\", \"Idk\", \"someSpecies\")\n",
    "bear3 = Animal(\"bear\", \"Idk\", \"someSpecies\")\n",
    "print(bear.GetAnimalCount())"
   ]
  },
  {
   "cell_type": "markdown",
   "metadata": {},
   "source": [
    "## Part 6: Putting it all together \n",
    "\n",
    "Now that you understand the basics of the python programming language, complete the following exercise in which you will implement a modified binary search tree using the principles learned. The tree should operate as follows:\n",
    "\n",
    "- the tree does not need to be auto-balancing\n",
    "- each node should have a value as well as a counter\n",
    "- the first time the value is added to the tree, set the counter for that node to one\n",
    "- if the same value is added to the tree a second time, increment the counter\n",
    "- you do not need to worry about removing values from the tree\n",
    "\n",
    "To successfully implement the tree you must: \n",
    "\n",
    "- create a class for a tree node\n",
    "    - include the following members:\n",
    "            value - the value of that node\n",
    "            count - the number of times this value has been added to the tree\n",
    "            left - a reference to the left child\n",
    "            right - a reference to the right child\n",
    "    - you may need to add some methods\n",
    "\n",
    "- create a class for a tree\n",
    "    - include the following members:\n",
    "            root - the first BSTNode added to the tree\n",
    "    - include the following methods:\n",
    "            insert (value) - add a node with the given value to the tree, or if that node is already present,\n",
    "                             increment its counter\n",
    "            find (value) - if the value is found in the tree, return the count, else return 0\n",
    "    - you may need to include some additional helper functions"
   ]
  },
  {
   "cell_type": "code",
   "execution_count": 1,
   "metadata": {},
   "outputs": [
    {
     "name": "stdout",
     "output_type": "stream",
     "text": [
      "5\n",
      "1\n",
      "-1\n",
      "3\n",
      "10\n",
      "6\n",
      "9\n",
      "\n",
      "0\n",
      "2\n",
      "3\n",
      "0\n",
      "1\n"
     ]
    }
   ],
   "source": [
    "class TreeNode():\n",
    "    def __init__(self, value):\n",
    "        self.value = value\n",
    "        self.left = None\n",
    "        self.right = None\n",
    "        self.count = 1\n",
    "    \n",
    "class BST():\n",
    "    def __init__(self):\n",
    "        self.root = None\n",
    "        \n",
    "    def insert(self, treeNode):\n",
    "        if(self.root is None):\n",
    "            self.root = treeNode\n",
    "            return\n",
    "        else:\n",
    "            self.insertRecursiveHelper(self.root, treeNode)\n",
    "            return\n",
    "    \n",
    "    def insertRecursiveHelper(self, node, treeNode):\n",
    "        if(node is None):\n",
    "            node = treeNode\n",
    "            return\n",
    "        elif(node.value == treeNode.value):\n",
    "            node.count += 1\n",
    "            return\n",
    "        elif(node.value > treeNode.value):\n",
    "            if(node.left is None):\n",
    "                node.left = treeNode\n",
    "            else:\n",
    "                self.insertRecursiveHelper(node.left, treeNode)\n",
    "            return\n",
    "        elif(node.value < treeNode.value):\n",
    "            if(node.right is None):\n",
    "                node.right = treeNode\n",
    "            else:\n",
    "                self.insertRecursiveHelper(node.right, treeNode)\n",
    "            return\n",
    "        else:\n",
    "            return\n",
    "        \n",
    "    def printTree(self):\n",
    "        self.printTreeHelper(self.root)\n",
    "        return\n",
    "    \n",
    "    def printTreeHelper(self, node):\n",
    "        print(node.value)\n",
    "        if(node.left is not None):\n",
    "            self.printTreeHelper(node.left)\n",
    "        if(node.right is not None):\n",
    "            self.printTreeHelper(node.right)\n",
    "            \n",
    "    def find(self, value):\n",
    "        #Perform a binary search.\n",
    "        #Keep a list of all nodes that need to be searched, pop items from the list as they are searched.\n",
    "        #Append new items to the end       \n",
    "        searchMe = [self.root] #A list of nodes that need to be searched.\n",
    "        while(len(searchMe) is not 0):\n",
    "            if(searchMe[0].value == value):\n",
    "                return searchMe[0].count\n",
    "            else:\n",
    "                if(searchMe[0].value > value):\n",
    "                    if(searchMe[0].left is not None):\n",
    "                        searchMe.append(searchMe[0].left)\n",
    "                elif(searchMe[0].right is not None):\n",
    "                    searchMe.append(searchMe[0].right)\n",
    "                searchMe.pop(0)\n",
    "        return 0                \n",
    "            \n",
    "                \n",
    "\n",
    "bst = BST()\n",
    "bst.insert(TreeNode(5))\n",
    "bst.insert(TreeNode(1))\n",
    "bst.insert(TreeNode(10))\n",
    "bst.insert(TreeNode(3))\n",
    "bst.insert(TreeNode(6))\n",
    "bst.insert(TreeNode(9))\n",
    "bst.insert(TreeNode(9))\n",
    "bst.insert(TreeNode(9))\n",
    "bst.insert(TreeNode(1))\n",
    "bst.insert(TreeNode(-1))\n",
    "\n",
    "bst.printTree()\n",
    "\n",
    "print(\"\")\n",
    "\n",
    "print(bst.find(11))\n",
    "print(bst.find(1))\n",
    "print(bst.find(9))\n",
    "print(bst.find(7))\n",
    "print(bst.find(-1))"
   ]
  },
  {
   "cell_type": "code",
   "execution_count": null,
   "metadata": {
    "collapsed": true
   },
   "outputs": [],
   "source": []
  }
 ],
 "metadata": {
  "kernelspec": {
   "display_name": "Python 3",
   "language": "python",
   "name": "python3"
  },
  "language_info": {
   "codemirror_mode": {
    "name": "ipython",
    "version": 3
   },
   "file_extension": ".py",
   "mimetype": "text/x-python",
   "name": "python",
   "nbconvert_exporter": "python",
   "pygments_lexer": "ipython3",
   "version": "3.6.3"
  }
 },
 "nbformat": 4,
 "nbformat_minor": 2
}
